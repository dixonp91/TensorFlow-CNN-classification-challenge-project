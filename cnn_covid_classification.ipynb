{
  "nbformat": 4,
  "nbformat_minor": 0,
  "metadata": {
    "colab": {
      "name": "cnn_covid-classification.ipynb",
      "provenance": [],
      "collapsed_sections": [],
      "authorship_tag": "ABX9TyPXPvwxFOEQNAPreJacbV60",
      "include_colab_link": true
    },
    "kernelspec": {
      "name": "python3",
      "display_name": "Python 3"
    },
    "language_info": {
      "name": "python"
    },
    "accelerator": "GPU"
  },
  "cells": [
    {
      "cell_type": "markdown",
      "metadata": {
        "id": "view-in-github",
        "colab_type": "text"
      },
      "source": [
        "<a href=\"https://colab.research.google.com/github/dixonp91/TensorFlow-CNN-classification-challenge-project/blob/main/cnn_covid_classification.ipynb\" target=\"_parent\"><img src=\"https://colab.research.google.com/assets/colab-badge.svg\" alt=\"Open In Colab\"/></a>"
      ]
    },
    {
      "cell_type": "markdown",
      "metadata": {
        "id": "NUVnrLGT9TVW"
      },
      "source": [
        "# Codecademy CNN Classification Challenge Project:\n",
        "####Covid-19 and Pneumonia Classification with Deep Learning"
      ]
    },
    {
      "cell_type": "code",
      "metadata": {
        "id": "rXxb-EPT9eVI"
      },
      "source": [
        "import tensorflow as tf\n",
        "from tensorflow import keras\n",
        "from tensorflow.keras.models import Sequential\n",
        "from tensorflow.keras.preprocessing.image import ImageDataGenerator\n",
        "\n",
        "from sklearn.metrics import classification_report\n",
        "from sklearn.metrics import confusion_matrix\n",
        "\n",
        "from tensorflow.keras.callbacks import EarlyStopping\n",
        "from tensorflow.keras import layers\n",
        "\n",
        "import matplotlib.pyplot as plt\n",
        "import numpy"
      ],
      "execution_count": 2,
      "outputs": []
    },
    {
      "cell_type": "markdown",
      "metadata": {
        "id": "Q54LbYSF-mHe"
      },
      "source": [
        "### Upload Images \n",
        "Construct an ImageDataGenerator object\n",
        "\n",
        "example of how to upload image datasets\n",
        "https://www.youtube.com/watch?v=n4mxwSAWvo8\n",
        "https://medium.com/analytics-vidhya/create-tensorflow-image-classification-model-with-your-own-dataset-in-google-colab-63e9d7853a3e"
      ]
    },
    {
      "cell_type": "code",
      "metadata": {
        "colab": {
          "base_uri": "https://localhost:8080/"
        },
        "id": "TVvt4b3Y_z1z",
        "outputId": "35371d61-70bd-4573-cc2f-b3c3569f28c8"
      },
      "source": [
        "from google.colab import drive\n",
        "drive.mount('/content/drive')\n"
      ],
      "execution_count": 3,
      "outputs": [
        {
          "output_type": "stream",
          "text": [
            "Mounted at /content/drive\n"
          ],
          "name": "stdout"
        }
      ]
    },
    {
      "cell_type": "code",
      "metadata": {
        "id": "DLEdshtzOywY"
      },
      "source": [
        "training_directory = str('/content/drive/My Drive/Covid19-dataset/train')\n",
        "test_directory = str('/content/drive/My Drive/Covid19-dataset/test')"
      ],
      "execution_count": 4,
      "outputs": []
    },
    {
      "cell_type": "markdown",
      "metadata": {
        "id": "szqhoUR3Q7S3"
      },
      "source": [
        "##Preprocess Image Data"
      ]
    },
    {
      "cell_type": "code",
      "metadata": {
        "id": "a9_ejHEaRKW-",
        "colab": {
          "base_uri": "https://localhost:8080/"
        },
        "outputId": "02823452-b485-48b0-a078-729c845aa8a5"
      },
      "source": [
        "BATCH_SIZE = 32\n",
        "\n",
        "training_data_gen = ImageDataGenerator(rescale= 1/256, zoom_range = 0.2, rotation_range = 15, width_shift_range = 0.05, height_shift_range = 0.05)\n",
        "training_iterator = training_data_gen.flow_from_directory(training_directory, class_mode = 'categorical', color_mode = 'grayscale', target_size = (256, 256), batch_size =BATCH_SIZE)\n",
        "\n",
        "validation_data_gen = ImageDataGenerator(rescale= 1/256,)\n",
        "validation_iterator = validation_data_gen.flow_from_directory(test_directory, class_mode='categorical', color_mode='grayscale', batch_size=BATCH_SIZE)\n"
      ],
      "execution_count": 5,
      "outputs": [
        {
          "output_type": "stream",
          "text": [
            "Found 251 images belonging to 3 classes.\n",
            "Found 66 images belonging to 3 classes.\n"
          ],
          "name": "stdout"
        }
      ]
    },
    {
      "cell_type": "markdown",
      "metadata": {
        "id": "FOiw4HAqZxJe"
      },
      "source": [
        "##Build Model"
      ]
    },
    {
      "cell_type": "code",
      "metadata": {
        "id": "53EIwyJAZ2BB",
        "colab": {
          "base_uri": "https://localhost:8080/"
        },
        "outputId": "20e28b1d-8490-4f35-ecf8-d39dea61bee2"
      },
      "source": [
        "model = tf.keras.Sequential()\n",
        "model.add(tf.keras.layers.Input(shape = (265,265,1)))\n",
        "\n",
        "model.add(tf.keras.layers.Conv2D(5, 5, strides = 2, padding = 'valid', activation = 'relu'))\n",
        "model.add(tf.keras.layers.MaxPooling2D(pool_size =(3,3), strides = (3,3)))\n",
        "model.add(layers.Dropout(0.1))\n",
        "\n",
        "model.add(tf.keras.layers.Conv2D(3, 3, strides = 1, padding = 'valid', activation = 'relu'))\n",
        "model.add(tf.keras.layers.MaxPooling2D(pool_size =(2,2), strides = (2,2)))\n",
        "model.add(layers.Dropout(0.1))\n",
        "model.add(tf.keras.layers.Flatten())\n",
        "\n",
        "model.add(tf.keras.layers.Dense(9, activation=\"relu\"))\n",
        "model.add(tf.keras.layers.Dense(3, activation = 'softmax'))\n",
        "\n",
        "opt = tf.keras.optimizers.Adam(learning_rate = 0.001)\n",
        "loss = tf.keras.losses.CategoricalCrossentropy()\n",
        "metrics = [tf.keras.metrics.CategoricalAccuracy(),tf.keras.metrics.AUC()]\n",
        "\n",
        "model.compile( optimizer = opt, loss = loss, metrics = metrics)\n",
        "model.summary()\n",
        "\n",
        "history = model.fit(\n",
        "       training_iterator,\n",
        "       steps_per_epoch=training_iterator.samples/BATCH_SIZE,\n",
        "       epochs=8,\n",
        "       validation_data=validation_iterator,\n",
        "       validation_steps=validation_iterator.samples/BATCH_SIZE)\n",
        "\n"
      ],
      "execution_count": 38,
      "outputs": [
        {
          "output_type": "stream",
          "text": [
            "Model: \"sequential_23\"\n",
            "_________________________________________________________________\n",
            "Layer (type)                 Output Shape              Param #   \n",
            "=================================================================\n",
            "conv2d_48 (Conv2D)           (None, 131, 131, 5)       130       \n",
            "_________________________________________________________________\n",
            "max_pooling2d_47 (MaxPooling (None, 43, 43, 5)         0         \n",
            "_________________________________________________________________\n",
            "dropout_32 (Dropout)         (None, 43, 43, 5)         0         \n",
            "_________________________________________________________________\n",
            "conv2d_49 (Conv2D)           (None, 41, 41, 3)         138       \n",
            "_________________________________________________________________\n",
            "max_pooling2d_48 (MaxPooling (None, 20, 20, 3)         0         \n",
            "_________________________________________________________________\n",
            "dropout_33 (Dropout)         (None, 20, 20, 3)         0         \n",
            "_________________________________________________________________\n",
            "flatten_22 (Flatten)         (None, 1200)              0         \n",
            "_________________________________________________________________\n",
            "dense_44 (Dense)             (None, 9)                 10809     \n",
            "_________________________________________________________________\n",
            "dense_45 (Dense)             (None, 3)                 30        \n",
            "=================================================================\n",
            "Total params: 11,107\n",
            "Trainable params: 11,107\n",
            "Non-trainable params: 0\n",
            "_________________________________________________________________\n",
            "Epoch 1/8\n",
            "7/7 [==============================] - 3s 298ms/step - loss: 1.1068 - categorical_accuracy: 0.4383 - auc_22: 0.5673 - val_loss: 1.0723 - val_categorical_accuracy: 0.3939 - val_auc_22: 0.6429\n",
            "Epoch 2/8\n",
            "7/7 [==============================] - 2s 247ms/step - loss: 1.0463 - categorical_accuracy: 0.4443 - auc_22: 0.6567 - val_loss: 1.0023 - val_categorical_accuracy: 0.6061 - val_auc_22: 0.7944\n",
            "Epoch 3/8\n",
            "7/7 [==============================] - 2s 248ms/step - loss: 0.9635 - categorical_accuracy: 0.5868 - auc_22: 0.7638 - val_loss: 0.8835 - val_categorical_accuracy: 0.7273 - val_auc_22: 0.8536\n",
            "Epoch 4/8\n",
            "7/7 [==============================] - 2s 253ms/step - loss: 0.8078 - categorical_accuracy: 0.6808 - auc_22: 0.8667 - val_loss: 0.7335 - val_categorical_accuracy: 0.8182 - val_auc_22: 0.9252\n",
            "Epoch 5/8\n",
            "7/7 [==============================] - 2s 248ms/step - loss: 0.7212 - categorical_accuracy: 0.7160 - auc_22: 0.8837 - val_loss: 0.6242 - val_categorical_accuracy: 0.7424 - val_auc_22: 0.9214\n",
            "Epoch 6/8\n",
            "7/7 [==============================] - 2s 247ms/step - loss: 0.6361 - categorical_accuracy: 0.7575 - auc_22: 0.8983 - val_loss: 0.5408 - val_categorical_accuracy: 0.8030 - val_auc_22: 0.9333\n",
            "Epoch 7/8\n",
            "7/7 [==============================] - 2s 249ms/step - loss: 0.5295 - categorical_accuracy: 0.7676 - auc_22: 0.9279 - val_loss: 0.4788 - val_categorical_accuracy: 0.7879 - val_auc_22: 0.9431\n",
            "Epoch 8/8\n",
            "7/7 [==============================] - 2s 248ms/step - loss: 0.5011 - categorical_accuracy: 0.7975 - auc_22: 0.9328 - val_loss: 0.4805 - val_categorical_accuracy: 0.8030 - val_auc_22: 0.9408\n"
          ],
          "name": "stdout"
        }
      ]
    },
    {
      "cell_type": "markdown",
      "metadata": {
        "id": "o_NwLxyun1w3"
      },
      "source": [
        "##Plots"
      ]
    },
    {
      "cell_type": "code",
      "metadata": {
        "colab": {
          "base_uri": "https://localhost:8080/",
          "height": 295
        },
        "id": "_ZVUWS6kn4pg",
        "outputId": "3d1b2276-a210-454f-be3a-28e6634a189a"
      },
      "source": [
        "# plotting categorical and validation accuracy over epochs\n",
        "fig = plt.figure()\n",
        "ax1 = fig.add_subplot(3, 1, 1)\n",
        "ax1.plot(history.history['categorical_accuracy'])\n",
        "ax1.plot(history.history['val_categorical_accuracy'])\n",
        "ax1.set_title('model accuracy')\n",
        "ax1.set_xlabel('epoch')\n",
        "ax1.set_ylabel('accuracy')\n",
        "ax1.legend(['train', 'validation'], loc='upper left')\n",
        "\n",
        "# plotting auc and validation auc over epochs\n",
        "ax2 = fig.add_subplot(3, 1, 2)\n",
        "ax2.plot(history.history['auc_22'])\n",
        "ax2.plot(history.history['val_auc_22'])\n",
        "ax2.set_title('model auc')\n",
        "ax2.set_xlabel('epoch')\n",
        "ax2.set_ylabel('auc')\n",
        "ax2.legend(['train', 'validation'], loc='upper left')\n",
        "\n",
        "# plotting loss and validation loss over epochs\n",
        "ax2 = fig.add_subplot(3, 1, 3)\n",
        "ax2.plot(history.history['loss'])\n",
        "ax2.plot(history.history['val_loss'])\n",
        "ax2.set_title('model loss')\n",
        "ax2.set_xlabel('epoch')\n",
        "ax2.set_ylabel('loss')\n",
        "ax2.legend(['train', 'validation'], loc='upper left')\n",
        "\n",
        "plt.show()"
      ],
      "execution_count": 44,
      "outputs": [
        {
          "output_type": "display_data",
          "data": {
            "image/png": "[encoded data removed]",
            "text/plain": [
              "<Figure size 432x288 with 3 Axes>"
            ]
          },
          "metadata": {
            "tags": [],
            "needs_background": "light"
          }
        }
      ]
    }
  ]
}